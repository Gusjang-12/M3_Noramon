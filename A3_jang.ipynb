{
 "cells": [
  {
   "cell_type": "code",
   "execution_count": 1,
   "metadata": {},
   "outputs": [],
   "source": [
    "import numpy as np\n",
    "import pandas as pd\n",
    "import seaborn as sns\n",
    "import matplotlib.pyplot as plt \n",
    "import warnings\n",
    "warnings.filterwarnings('ignore')"
   ]
  },
  {
   "cell_type": "code",
   "execution_count": 2,
   "metadata": {},
   "outputs": [],
   "source": [
    "df = pd.read_csv('C:/ML/Python-for-Machine-Learning/00_Case_Study/Car_Data/Cars.csv')"
   ]
  },
  {
   "cell_type": "code",
   "execution_count": 3,
   "metadata": {},
   "outputs": [
    {
     "data": {
      "text/plain": [
       "(8128, 13)"
      ]
     },
     "execution_count": 3,
     "metadata": {},
     "output_type": "execute_result"
    }
   ],
   "source": [
    "df.shape"
   ]
  },
  {
   "cell_type": "code",
   "execution_count": 4,
   "metadata": {},
   "outputs": [],
   "source": [
    "df1 = df.replace(['First Owner', 'Second Owner', 'Third Owner',\n",
    "       'Fourth & Above Owner', 'Test Drive Car'], [1, 2, 3, 4, 5])"
   ]
  },
  {
   "cell_type": "code",
   "execution_count": 5,
   "metadata": {},
   "outputs": [],
   "source": [
    "df2 = df1[df1[\"fuel\"].str.contains('CNG|LPG')==False]"
   ]
  },
  {
   "cell_type": "code",
   "execution_count": 6,
   "metadata": {},
   "outputs": [],
   "source": [
    "df2['mileage'] = df2['mileage'].str.extract('(\\d+\\.\\d+)').astype(float)"
   ]
  },
  {
   "cell_type": "code",
   "execution_count": 7,
   "metadata": {},
   "outputs": [],
   "source": [
    "df2['engine'] = df2['engine'].str.extract('(\\d+)').astype(float)\n",
    "df2['max_power'] = df2['max_power'].str.extract('(\\d+\\.?\\d+)').astype(float)"
   ]
  },
  {
   "cell_type": "code",
   "execution_count": 8,
   "metadata": {},
   "outputs": [],
   "source": [
    "df3 = df2.drop(['torque'], axis=1)"
   ]
  },
  {
   "cell_type": "code",
   "execution_count": 9,
   "metadata": {},
   "outputs": [],
   "source": [
    "df3[\"name\"] = df3[\"name\"].str.split().str[0]\n"
   ]
  },
  {
   "cell_type": "code",
   "execution_count": 10,
   "metadata": {},
   "outputs": [],
   "source": [
    "df3.drop(df3[df3['owner'] == 5].index, inplace= True)\n"
   ]
  },
  {
   "cell_type": "code",
   "execution_count": 162,
   "metadata": {},
   "outputs": [
    {
     "data": {
      "text/plain": [
       "np.float64(16.11809565095832)"
      ]
     },
     "execution_count": 162,
     "metadata": {},
     "output_type": "execute_result"
    }
   ],
   "source": [
    "df3['selling_price_log'].max()\n"
   ]
  },
  {
   "cell_type": "code",
   "execution_count": 164,
   "metadata": {},
   "outputs": [
    {
     "data": {
      "text/plain": [
       "np.float64(10.308919326755392)"
      ]
     },
     "execution_count": 164,
     "metadata": {},
     "output_type": "execute_result"
    }
   ],
   "source": [
    "df3['selling_price_log'].min()"
   ]
  },
  {
   "cell_type": "code",
   "execution_count": 160,
   "metadata": {},
   "outputs": [],
   "source": [
    "df3['selling_price_log'] = np.log(df3['selling_price'])"
   ]
  },
  {
   "cell_type": "code",
   "execution_count": 223,
   "metadata": {},
   "outputs": [],
   "source": [
    "bins = [10.11, 11.61, 13.11, 14.61, df3['selling_price_log'].max()]\n",
    "labels = [0, 1, 2 ,3]\n",
    "\n",
    "df3['price_category'] = pd.cut(df3['selling_price_log'], bins=bins, labels=labels, include_lowest=True)"
   ]
  },
  {
   "cell_type": "code",
   "execution_count": 224,
   "metadata": {},
   "outputs": [
    {
     "name": "stdout",
     "output_type": "stream",
     "text": [
      "   selling_price_log price_category\n",
      "0          13.017003              1\n",
      "1          12.821258              1\n",
      "2          11.970350              1\n",
      "3          12.323856              1\n",
      "4          11.775290              1\n"
     ]
    }
   ],
   "source": [
    "print(df3[['selling_price_log', 'price_category']].head())"
   ]
  },
  {
   "cell_type": "code",
   "execution_count": 192,
   "metadata": {},
   "outputs": [
    {
     "data": {
      "text/html": [
       "<div>\n",
       "<style scoped>\n",
       "    .dataframe tbody tr th:only-of-type {\n",
       "        vertical-align: middle;\n",
       "    }\n",
       "\n",
       "    .dataframe tbody tr th {\n",
       "        vertical-align: top;\n",
       "    }\n",
       "\n",
       "    .dataframe thead th {\n",
       "        text-align: right;\n",
       "    }\n",
       "</style>\n",
       "<table border=\"1\" class=\"dataframe\">\n",
       "  <thead>\n",
       "    <tr style=\"text-align: right;\">\n",
       "      <th></th>\n",
       "      <th>name</th>\n",
       "      <th>year</th>\n",
       "      <th>selling_price</th>\n",
       "      <th>km_driven</th>\n",
       "      <th>fuel</th>\n",
       "      <th>seller_type</th>\n",
       "      <th>transmission</th>\n",
       "      <th>owner</th>\n",
       "      <th>mileage</th>\n",
       "      <th>engine</th>\n",
       "      <th>max_power</th>\n",
       "      <th>seats</th>\n",
       "      <th>price_category</th>\n",
       "      <th>selling_price_log</th>\n",
       "    </tr>\n",
       "  </thead>\n",
       "  <tbody>\n",
       "    <tr>\n",
       "      <th>0</th>\n",
       "      <td>Maruti</td>\n",
       "      <td>2014</td>\n",
       "      <td>450000</td>\n",
       "      <td>145500</td>\n",
       "      <td>Diesel</td>\n",
       "      <td>Individual</td>\n",
       "      <td>Manual</td>\n",
       "      <td>1</td>\n",
       "      <td>23.40</td>\n",
       "      <td>1248.0</td>\n",
       "      <td>74.00</td>\n",
       "      <td>5.0</td>\n",
       "      <td>2</td>\n",
       "      <td>13.017003</td>\n",
       "    </tr>\n",
       "    <tr>\n",
       "      <th>1</th>\n",
       "      <td>Skoda</td>\n",
       "      <td>2014</td>\n",
       "      <td>370000</td>\n",
       "      <td>120000</td>\n",
       "      <td>Diesel</td>\n",
       "      <td>Individual</td>\n",
       "      <td>Manual</td>\n",
       "      <td>2</td>\n",
       "      <td>21.14</td>\n",
       "      <td>1498.0</td>\n",
       "      <td>103.52</td>\n",
       "      <td>5.0</td>\n",
       "      <td>1</td>\n",
       "      <td>12.821258</td>\n",
       "    </tr>\n",
       "    <tr>\n",
       "      <th>2</th>\n",
       "      <td>Honda</td>\n",
       "      <td>2006</td>\n",
       "      <td>158000</td>\n",
       "      <td>140000</td>\n",
       "      <td>Petrol</td>\n",
       "      <td>Individual</td>\n",
       "      <td>Manual</td>\n",
       "      <td>3</td>\n",
       "      <td>17.70</td>\n",
       "      <td>1497.0</td>\n",
       "      <td>78.00</td>\n",
       "      <td>5.0</td>\n",
       "      <td>1</td>\n",
       "      <td>11.970350</td>\n",
       "    </tr>\n",
       "    <tr>\n",
       "      <th>3</th>\n",
       "      <td>Hyundai</td>\n",
       "      <td>2010</td>\n",
       "      <td>225000</td>\n",
       "      <td>127000</td>\n",
       "      <td>Diesel</td>\n",
       "      <td>Individual</td>\n",
       "      <td>Manual</td>\n",
       "      <td>1</td>\n",
       "      <td>23.00</td>\n",
       "      <td>1396.0</td>\n",
       "      <td>90.00</td>\n",
       "      <td>5.0</td>\n",
       "      <td>1</td>\n",
       "      <td>12.323856</td>\n",
       "    </tr>\n",
       "    <tr>\n",
       "      <th>4</th>\n",
       "      <td>Maruti</td>\n",
       "      <td>2007</td>\n",
       "      <td>130000</td>\n",
       "      <td>120000</td>\n",
       "      <td>Petrol</td>\n",
       "      <td>Individual</td>\n",
       "      <td>Manual</td>\n",
       "      <td>1</td>\n",
       "      <td>16.10</td>\n",
       "      <td>1298.0</td>\n",
       "      <td>88.20</td>\n",
       "      <td>5.0</td>\n",
       "      <td>1</td>\n",
       "      <td>11.775290</td>\n",
       "    </tr>\n",
       "  </tbody>\n",
       "</table>\n",
       "</div>"
      ],
      "text/plain": [
       "      name  year  selling_price  km_driven    fuel seller_type transmission  \\\n",
       "0   Maruti  2014         450000     145500  Diesel  Individual       Manual   \n",
       "1    Skoda  2014         370000     120000  Diesel  Individual       Manual   \n",
       "2    Honda  2006         158000     140000  Petrol  Individual       Manual   \n",
       "3  Hyundai  2010         225000     127000  Diesel  Individual       Manual   \n",
       "4   Maruti  2007         130000     120000  Petrol  Individual       Manual   \n",
       "\n",
       "   owner  mileage  engine  max_power  seats price_category  selling_price_log  \n",
       "0      1    23.40  1248.0      74.00    5.0              2          13.017003  \n",
       "1      2    21.14  1498.0     103.52    5.0              1          12.821258  \n",
       "2      3    17.70  1497.0      78.00    5.0              1          11.970350  \n",
       "3      1    23.00  1396.0      90.00    5.0              1          12.323856  \n",
       "4      1    16.10  1298.0      88.20    5.0              1          11.775290  "
      ]
     },
     "execution_count": 192,
     "metadata": {},
     "output_type": "execute_result"
    }
   ],
   "source": [
    "df3.head()"
   ]
  },
  {
   "cell_type": "code",
   "execution_count": 225,
   "metadata": {},
   "outputs": [],
   "source": [
    "X_1 = df3[['year','max_power' , 'engine','km_driven']]\n",
    "y_1 = df3[\"price_category\"]"
   ]
  },
  {
   "cell_type": "code",
   "execution_count": 226,
   "metadata": {},
   "outputs": [
    {
     "data": {
      "text/plain": [
       "0    1\n",
       "1    1\n",
       "2    1\n",
       "3    1\n",
       "4    1\n",
       "Name: price_category, dtype: category\n",
       "Categories (4, int64): [0 < 1 < 2 < 3]"
      ]
     },
     "execution_count": 226,
     "metadata": {},
     "output_type": "execute_result"
    }
   ],
   "source": [
    "X_1.head()\n",
    "y_1.head()"
   ]
  },
  {
   "cell_type": "code",
   "execution_count": 227,
   "metadata": {},
   "outputs": [],
   "source": [
    "from sklearn.model_selection import train_test_split\n",
    "\n",
    "X_1train, X_1test, y_1train, y_1test = train_test_split(X_1, y_1, test_size = 0.3, random_state = 32)"
   ]
  },
  {
   "cell_type": "code",
   "execution_count": 228,
   "metadata": {},
   "outputs": [],
   "source": [
    "X_1train['year'].fillna(X_1train['year'].median(), inplace=True)\n",
    "X_1train['max_power'].fillna(X_1train['max_power'].median(), inplace=True)\n",
    "#X_1train['mileage'].fillna(X_1train['mileage'].median(), inplace=True)\n",
    "X_1train['engine'].fillna(X_1train['engine'].median(), inplace=True)\n",
    "X_1train['km_driven'].fillna(X_1train['km_driven'].median(), inplace=True)\n",
    "#X_1train['seats'].fillna(X_1train['seats'].median(), inplace=True)\n",
    "X_1test['year'].fillna(X_1test['year'].median(), inplace=True)\n",
    "X_1test['max_power'].fillna(X_1test['max_power'].median(), inplace=True)\n",
    "#X_1test['mileage'].fillna(X_1test['mileage'].median(), inplace=True)\n",
    "X_1test['engine'].fillna(X_1test['engine'].median(), inplace=True)\n",
    "X_1test['km_driven'].fillna(X_1test['km_driven'].median(), inplace=True)\n",
    "#X_1test['seats'].fillna(X_1test['seats'].median(), inplace=True)\n",
    "\n"
   ]
  },
  {
   "cell_type": "code",
   "execution_count": 229,
   "metadata": {},
   "outputs": [
    {
     "data": {
      "text/html": [
       "<div>\n",
       "<style scoped>\n",
       "    .dataframe tbody tr th:only-of-type {\n",
       "        vertical-align: middle;\n",
       "    }\n",
       "\n",
       "    .dataframe tbody tr th {\n",
       "        vertical-align: top;\n",
       "    }\n",
       "\n",
       "    .dataframe thead th {\n",
       "        text-align: right;\n",
       "    }\n",
       "</style>\n",
       "<table border=\"1\" class=\"dataframe\">\n",
       "  <thead>\n",
       "    <tr style=\"text-align: right;\">\n",
       "      <th></th>\n",
       "      <th>year</th>\n",
       "      <th>max_power</th>\n",
       "      <th>engine</th>\n",
       "      <th>km_driven</th>\n",
       "    </tr>\n",
       "  </thead>\n",
       "  <tbody>\n",
       "    <tr>\n",
       "      <th>6801</th>\n",
       "      <td>2010</td>\n",
       "      <td>69.00</td>\n",
       "      <td>1396.0</td>\n",
       "      <td>175000</td>\n",
       "    </tr>\n",
       "    <tr>\n",
       "      <th>2459</th>\n",
       "      <td>2002</td>\n",
       "      <td>37.00</td>\n",
       "      <td>796.0</td>\n",
       "      <td>52365</td>\n",
       "    </tr>\n",
       "    <tr>\n",
       "      <th>7083</th>\n",
       "      <td>2013</td>\n",
       "      <td>88.73</td>\n",
       "      <td>1496.0</td>\n",
       "      <td>100000</td>\n",
       "    </tr>\n",
       "    <tr>\n",
       "      <th>2526</th>\n",
       "      <td>2014</td>\n",
       "      <td>67.06</td>\n",
       "      <td>1364.0</td>\n",
       "      <td>31000</td>\n",
       "    </tr>\n",
       "    <tr>\n",
       "      <th>3586</th>\n",
       "      <td>2018</td>\n",
       "      <td>98.97</td>\n",
       "      <td>1499.0</td>\n",
       "      <td>35278</td>\n",
       "    </tr>\n",
       "    <tr>\n",
       "      <th>1675</th>\n",
       "      <td>2016</td>\n",
       "      <td>108.60</td>\n",
       "      <td>1498.0</td>\n",
       "      <td>60000</td>\n",
       "    </tr>\n",
       "    <tr>\n",
       "      <th>5193</th>\n",
       "      <td>2011</td>\n",
       "      <td>80.00</td>\n",
       "      <td>1197.0</td>\n",
       "      <td>220000</td>\n",
       "    </tr>\n",
       "    <tr>\n",
       "      <th>3341</th>\n",
       "      <td>2016</td>\n",
       "      <td>88.70</td>\n",
       "      <td>1199.0</td>\n",
       "      <td>41000</td>\n",
       "    </tr>\n",
       "    <tr>\n",
       "      <th>7839</th>\n",
       "      <td>2011</td>\n",
       "      <td>102.00</td>\n",
       "      <td>2494.0</td>\n",
       "      <td>60000</td>\n",
       "    </tr>\n",
       "    <tr>\n",
       "      <th>1481</th>\n",
       "      <td>2016</td>\n",
       "      <td>74.00</td>\n",
       "      <td>1248.0</td>\n",
       "      <td>80000</td>\n",
       "    </tr>\n",
       "    <tr>\n",
       "      <th>2155</th>\n",
       "      <td>2014</td>\n",
       "      <td>100.60</td>\n",
       "      <td>2494.0</td>\n",
       "      <td>100000</td>\n",
       "    </tr>\n",
       "    <tr>\n",
       "      <th>4999</th>\n",
       "      <td>2010</td>\n",
       "      <td>177.60</td>\n",
       "      <td>2354.0</td>\n",
       "      <td>74000</td>\n",
       "    </tr>\n",
       "    <tr>\n",
       "      <th>7068</th>\n",
       "      <td>2010</td>\n",
       "      <td>90.00</td>\n",
       "      <td>1368.0</td>\n",
       "      <td>100000</td>\n",
       "    </tr>\n",
       "    <tr>\n",
       "      <th>4332</th>\n",
       "      <td>2018</td>\n",
       "      <td>81.80</td>\n",
       "      <td>1197.0</td>\n",
       "      <td>69779</td>\n",
       "    </tr>\n",
       "    <tr>\n",
       "      <th>6261</th>\n",
       "      <td>2019</td>\n",
       "      <td>81.83</td>\n",
       "      <td>1197.0</td>\n",
       "      <td>9400</td>\n",
       "    </tr>\n",
       "    <tr>\n",
       "      <th>1902</th>\n",
       "      <td>2011</td>\n",
       "      <td>120.00</td>\n",
       "      <td>2179.0</td>\n",
       "      <td>150000</td>\n",
       "    </tr>\n",
       "    <tr>\n",
       "      <th>4253</th>\n",
       "      <td>1999</td>\n",
       "      <td>68.00</td>\n",
       "      <td>1998.0</td>\n",
       "      <td>100000</td>\n",
       "    </tr>\n",
       "    <tr>\n",
       "      <th>828</th>\n",
       "      <td>2017</td>\n",
       "      <td>126.20</td>\n",
       "      <td>1582.0</td>\n",
       "      <td>35000</td>\n",
       "    </tr>\n",
       "    <tr>\n",
       "      <th>5641</th>\n",
       "      <td>2014</td>\n",
       "      <td>83.80</td>\n",
       "      <td>1461.0</td>\n",
       "      <td>90000</td>\n",
       "    </tr>\n",
       "    <tr>\n",
       "      <th>5078</th>\n",
       "      <td>2015</td>\n",
       "      <td>74.00</td>\n",
       "      <td>1248.0</td>\n",
       "      <td>70000</td>\n",
       "    </tr>\n",
       "  </tbody>\n",
       "</table>\n",
       "</div>"
      ],
      "text/plain": [
       "      year  max_power  engine  km_driven\n",
       "6801  2010      69.00  1396.0     175000\n",
       "2459  2002      37.00   796.0      52365\n",
       "7083  2013      88.73  1496.0     100000\n",
       "2526  2014      67.06  1364.0      31000\n",
       "3586  2018      98.97  1499.0      35278\n",
       "1675  2016     108.60  1498.0      60000\n",
       "5193  2011      80.00  1197.0     220000\n",
       "3341  2016      88.70  1199.0      41000\n",
       "7839  2011     102.00  2494.0      60000\n",
       "1481  2016      74.00  1248.0      80000\n",
       "2155  2014     100.60  2494.0     100000\n",
       "4999  2010     177.60  2354.0      74000\n",
       "7068  2010      90.00  1368.0     100000\n",
       "4332  2018      81.80  1197.0      69779\n",
       "6261  2019      81.83  1197.0       9400\n",
       "1902  2011     120.00  2179.0     150000\n",
       "4253  1999      68.00  1998.0     100000\n",
       "828   2017     126.20  1582.0      35000\n",
       "5641  2014      83.80  1461.0      90000\n",
       "5078  2015      74.00  1248.0      70000"
      ]
     },
     "execution_count": 229,
     "metadata": {},
     "output_type": "execute_result"
    }
   ],
   "source": [
    "X_1train.head(20)"
   ]
  },
  {
   "cell_type": "code",
   "execution_count": 198,
   "metadata": {},
   "outputs": [
    {
     "name": "stdout",
     "output_type": "stream",
     "text": [
      "(5619, 5)\n",
      "(5619,)\n",
      "(2409, 5)\n",
      "(2409,)\n"
     ]
    }
   ],
   "source": [
    "print(X_1train.shape)\n",
    "print(y_1train.shape)\n",
    "print(X_1test.shape)\n",
    "print(y_1test.shape)"
   ]
  },
  {
   "cell_type": "code",
   "execution_count": 174,
   "metadata": {},
   "outputs": [],
   "source": [
    "import numpy as np\n",
    "import matplotlib.pyplot as plt\n",
    "from sklearn import datasets\n",
    "from sklearn.preprocessing import StandardScaler\n",
    "import numpy as np\n",
    "import matplotlib.pyplot as plt\n",
    "from sklearn.metrics import classification_report\n",
    "import time\n",
    "\n",
    "#Step 1: Prepare data\n"
   ]
  },
  {
   "cell_type": "code",
   "execution_count": 230,
   "metadata": {},
   "outputs": [],
   "source": [
    "scaler = StandardScaler()\n",
    "X_train = scaler.fit_transform(X_1train)\n",
    "#X_test = scaler.transform(y_1test)"
   ]
  },
  {
   "cell_type": "code",
   "execution_count": 231,
   "metadata": {},
   "outputs": [],
   "source": [
    "intercept = np.ones((X_train.shape[0], 1))\n",
    "X_train   = np.concatenate((intercept, X_train), axis=1)  #add intercept\n",
    "intercept = np.ones((X_1test.shape[0], 1))  # สร้างคอลัมน์ที่มีค่า 1\n",
    "X_1test = np.concatenate((intercept, X_1test), axis=1)"
   ]
  },
  {
   "cell_type": "code",
   "execution_count": null,
   "metadata": {},
   "outputs": [],
   "source": []
  },
  {
   "cell_type": "code",
   "execution_count": 201,
   "metadata": {},
   "outputs": [
    {
     "data": {
      "text/plain": [
       "(5619,)"
      ]
     },
     "execution_count": 201,
     "metadata": {},
     "output_type": "execute_result"
    }
   ],
   "source": [
    "y_1train.shape"
   ]
  },
  {
   "cell_type": "code",
   "execution_count": 232,
   "metadata": {},
   "outputs": [],
   "source": [
    "k = len(set(y_1train))  # จำนวนคลาส\n",
    "m = X_train.shape[0]  # จำนวนตัวอย่าง\n",
    "n = X_train.shape[1]  # จำนวนฟีเจอร์\n",
    "\n",
    "Y_train_encoded = np.zeros((m, k))  # สร้างอาเรย์ขนาด (m, k)\n",
    "\n",
    "for each_class in range(k):\n",
    "    cond = (y_1train == each_class)  # Boolean mask\n",
    "    Y_train_encoded[cond, each_class] = 1  # กำหนดค่าที่ตรงกันเป็น 1"
   ]
  },
  {
   "cell_type": "code",
   "execution_count": 233,
   "metadata": {},
   "outputs": [],
   "source": [
    "k = len(set(y_1test))\n",
    "m = X_1test.shape[0]  # จำนวนตัวอย่าง\n",
    "n = X_1test.shape[1]\n",
    "Y_test_encoded = np.zeros((m, k))  # สร้างอาเรย์ขนาด (m, k)\n",
    "\n",
    "\n",
    "for each_class in range(k):\n",
    "    cond = (y_1test == each_class)  # Boolean mask\n",
    "    Y_test_encoded[cond, each_class] = 1  # กำหนดค่าที่ตรงกันเป็น 1"
   ]
  },
  {
   "cell_type": "code",
   "execution_count": 234,
   "metadata": {},
   "outputs": [],
   "source": [
    "class LogisticRegression:\n",
    "    \n",
    "    def __init__(self, k, n, method, alpha = 0.001, max_iter=50000 , lambda_=0.0, use_penalty=False):\n",
    "        self.k = k\n",
    "        self.n = n\n",
    "        self.alpha = alpha\n",
    "        self.max_iter = max_iter\n",
    "        self.method = method\n",
    "        self.lambda_ = lambda_\n",
    "        self.use_penalty = use_penalty \n",
    "    \n",
    "    def fit(self, X, Y):\n",
    "        self.W = np.random.rand(self.n, self.k)\n",
    "        self.losses = []\n",
    "        \n",
    "        if self.method == \"batch\":\n",
    "            start_time = time.time()\n",
    "            for i in range(self.max_iter):\n",
    "                loss, grad =  self.gradient(X, Y)\n",
    "                self.losses.append(loss)\n",
    "                self.W = self.W - self.alpha * grad\n",
    "                if i % 2000 == 0:\n",
    "                    print(f\"Loss at iteration {i}\", loss)\n",
    "            print(f\"time taken: {time.time() - start_time}\")\n",
    "            \n",
    "        elif self.method == \"minibatch\":\n",
    "            start_time = time.time()\n",
    "            batch_size = int(0.3 * X.shape[0])\n",
    "            for i in range(self.max_iter):\n",
    "                ix = np.random.randint(0, X.shape[0]) #<----with replacement\n",
    "                batch_X = X[ix:ix+batch_size]\n",
    "                batch_Y = Y[ix:ix+batch_size]\n",
    "                loss, grad = self.gradient(batch_X, batch_Y)\n",
    "                self.losses.append(loss)\n",
    "                self.W = self.W - self.alpha * grad\n",
    "                if i % 500 == 0:\n",
    "                    print(f\"Loss at iteration {i}\", loss)\n",
    "            print(f\"time taken: {time.time() - start_time}\")\n",
    "            \n",
    "        elif self.method == \"sto\":\n",
    "            start_time = time.time()\n",
    "            list_of_used_ix = []\n",
    "            for i in range(self.max_iter):\n",
    "                idx = np.random.randint(X.shape[0])\n",
    "                while i in list_of_used_ix:\n",
    "                    idx = np.random.randint(X.shape[0])\n",
    "                X_train = X[idx, :].reshape(1, -1)\n",
    "                Y_train = Y[idx]\n",
    "                loss, grad = self.gradient(X_train, Y_train)\n",
    "                self.losses.append(loss)\n",
    "                self.W = self.W - self.alpha * grad\n",
    "                \n",
    "                list_of_used_ix.append(i)\n",
    "                if len(list_of_used_ix) == X.shape[0]:\n",
    "                    list_of_used_ix = []\n",
    "                if i % 500 == 0:\n",
    "                    print(f\"Loss at iteration {i}\", loss)\n",
    "            print(f\"time taken: {time.time() - start_time}\")\n",
    "            \n",
    "        else:\n",
    "            raise ValueError('Method must be one of the followings: \"batch\", \"minibatch\" or \"sto\".')\n",
    "        \n",
    "        \n",
    "    def gradient(self, X, Y):\n",
    "        m = X.shape[0]\n",
    "        h = self.h_theta(X, self.W)\n",
    "        loss = - np.sum(Y*np.log(h)) / m\n",
    "        error = h - Y\n",
    "        grad = self.softmax_grad(X, error)\n",
    "\n",
    "        if self.use_penalty:\n",
    "            reg_term = self.lambda_ * self.W\n",
    "            reg_term[0, :] = 0\n",
    "            loss += self.lambda_ * np.sum(np.square(self.W[1:, :])) / 2\n",
    "            grad += reg_term\n",
    "        return loss, grad\n",
    "\n",
    "    def softmax(self, theta_t_x):\n",
    "        return np.exp(theta_t_x) / np.sum(np.exp(theta_t_x), axis=1, keepdims=True)\n",
    "\n",
    "    def softmax_grad(self, X, error):\n",
    "        return  X.T @ error\n",
    "\n",
    "    def h_theta(self, X, W):\n",
    "        '''\n",
    "        Input:\n",
    "            X shape: (m, n)\n",
    "            w shape: (n, k)\n",
    "        Returns:\n",
    "            yhat shape: (m, k)\n",
    "        '''\n",
    "        return self.softmax(X @ W)\n",
    "    \n",
    "    def predict(self, X_test):\n",
    "        return np.argmax(self.h_theta(X_test, self.W), axis=1)\n",
    "    \n",
    "    def plot(self):\n",
    "        plt.plot(np.arange(len(self.losses)) , self.losses, label = \"Train Losses\")\n",
    "        plt.title(\"Losses\")\n",
    "        plt.xlabel(\"epoch\")\n",
    "        plt.ylabel(\"losses\")\n",
    "        plt.legend()"
   ]
  },
  {
   "cell_type": "code",
   "execution_count": 235,
   "metadata": {},
   "outputs": [],
   "source": [
    "class LassoPenalty:\n",
    "    \n",
    "    def __init__(self, l):\n",
    "        self.l = l # lambda value\n",
    "        \n",
    "    def __call__(self, theta): #__call__ allows us to call class as method\n",
    "        return self.l * np.sum(np.abs(theta))\n",
    "        \n",
    "    def derivation(self, theta):\n",
    "        return self.l * np.sign(theta)\n",
    "\n",
    "\n",
    "class RidgePenalty:\n",
    "    \n",
    "    def __init__(self, l):\n",
    "        self.l = l\n",
    "        \n",
    "    def __call__(self, theta): #__call__ allows us to call class as method\n",
    "        return self.l * np.sum(np.square(theta))\n",
    "        \n",
    "    def derivation(self, theta):\n",
    "        return self.l * 2 * theta\n",
    "\n",
    "class Ridge(LogisticRegression):\n",
    "    \n",
    "    def __init__(self, method, lr, l):\n",
    "        self.regularization = RidgePenalty(l)"
   ]
  },
  {
   "cell_type": "code",
   "execution_count": 236,
   "metadata": {},
   "outputs": [
    {
     "name": "stdout",
     "output_type": "stream",
     "text": [
      "Loss at iteration 0 1.49745426980261\n",
      "Loss at iteration 500 0.3898976785334476\n",
      "Loss at iteration 1000 0.40652359711840674\n",
      "Loss at iteration 1500 0.4731383746803387\n",
      "Loss at iteration 2000 0.3922191284291691\n",
      "Loss at iteration 2500 0.3967517044548257\n",
      "Loss at iteration 3000 0.40373649256681277\n",
      "Loss at iteration 3500 0.3975045600289264\n",
      "Loss at iteration 4000 0.38623328677960106\n",
      "Loss at iteration 4500 0.3916127236713753\n",
      "Loss at iteration 5000 0.40014576429306525\n",
      "Loss at iteration 5500 0.4045186024814909\n",
      "Loss at iteration 6000 0.3893823340361618\n",
      "Loss at iteration 6500 0.39836742531693736\n",
      "Loss at iteration 7000 0.39542332827952353\n",
      "Loss at iteration 7500 0.40299734616820104\n",
      "Loss at iteration 8000 0.4009740722567407\n",
      "Loss at iteration 8500 0.39358541744189945\n",
      "Loss at iteration 9000 0.40525362459743863\n",
      "Loss at iteration 9500 0.4038121397240966\n",
      "Loss at iteration 10000 0.40706682566972996\n",
      "Loss at iteration 10500 0.4051663900440193\n",
      "Loss at iteration 11000 0.3916464866396324\n",
      "Loss at iteration 11500 0.3939526001945311\n",
      "Loss at iteration 12000 0.3887553947348613\n",
      "Loss at iteration 12500 0.39016996198845183\n",
      "Loss at iteration 13000 0.39917828677312134\n",
      "Loss at iteration 13500 0.3976239664000591\n",
      "Loss at iteration 14000 0.3819118011349772\n",
      "Loss at iteration 14500 0.39010335455724865\n",
      "Loss at iteration 15000 0.44369815619178243\n",
      "Loss at iteration 15500 0.39023582858250394\n",
      "Loss at iteration 16000 0.3986386132897402\n",
      "Loss at iteration 16500 0.4633663793245287\n",
      "Loss at iteration 17000 0.38845407785792474\n",
      "Loss at iteration 17500 0.3887556525640615\n",
      "Loss at iteration 18000 0.3995809679179954\n",
      "Loss at iteration 18500 0.3861497143010178\n",
      "Loss at iteration 19000 0.3951308617772429\n",
      "Loss at iteration 19500 0.3916951013082939\n",
      "Loss at iteration 20000 0.39471990706171467\n",
      "Loss at iteration 20500 0.4058845342505094\n",
      "Loss at iteration 21000 0.3953549451768805\n",
      "Loss at iteration 21500 0.4019024443338618\n",
      "Loss at iteration 22000 0.388681171927823\n",
      "Loss at iteration 22500 0.38870351073831233\n",
      "Loss at iteration 23000 0.4046762845696419\n",
      "Loss at iteration 23500 0.402059018806325\n",
      "Loss at iteration 24000 0.3916769732915203\n",
      "Loss at iteration 24500 0.4062332419079827\n",
      "Loss at iteration 25000 0.5105844316578474\n",
      "Loss at iteration 25500 0.4374677785288026\n",
      "Loss at iteration 26000 0.3811137342375807\n",
      "Loss at iteration 26500 0.3898489855141824\n",
      "Loss at iteration 27000 0.3946095243899608\n",
      "Loss at iteration 27500 0.38984154913826735\n",
      "Loss at iteration 28000 0.3881603790935061\n",
      "Loss at iteration 28500 0.3990168572624694\n",
      "Loss at iteration 29000 0.4017162296730937\n",
      "Loss at iteration 29500 0.3870775914552782\n",
      "Loss at iteration 30000 0.40812079371582183\n",
      "Loss at iteration 30500 0.3998386176952191\n",
      "Loss at iteration 31000 0.39921025520370124\n",
      "Loss at iteration 31500 0.39166109479443667\n",
      "Loss at iteration 32000 0.40021192191032856\n",
      "Loss at iteration 32500 0.39918932883138425\n",
      "Loss at iteration 33000 0.38828024185278814\n",
      "Loss at iteration 33500 0.39625462778817944\n",
      "Loss at iteration 34000 0.3858999271394563\n",
      "Loss at iteration 34500 0.4046754542819758\n",
      "Loss at iteration 35000 0.38972276170856984\n",
      "Loss at iteration 35500 0.3876103459272494\n",
      "Loss at iteration 36000 0.39474805665058293\n",
      "Loss at iteration 36500 0.3930330527356563\n",
      "Loss at iteration 37000 0.38868325003619675\n",
      "Loss at iteration 37500 0.40313363612025305\n",
      "Loss at iteration 38000 0.3955481787795583\n",
      "Loss at iteration 38500 0.3992593480144995\n",
      "Loss at iteration 39000 0.38732595852575663\n",
      "Loss at iteration 39500 0.39016773567915425\n",
      "Loss at iteration 40000 0.3981041403950962\n",
      "Loss at iteration 40500 0.4027506626237266\n",
      "Loss at iteration 41000 0.388094076702616\n",
      "Loss at iteration 41500 0.3926007999362573\n",
      "Loss at iteration 42000 0.38286772025723026\n",
      "Loss at iteration 42500 0.38022467384984837\n",
      "Loss at iteration 43000 0.3807623651549377\n",
      "Loss at iteration 43500 0.38108054190005525\n",
      "Loss at iteration 44000 0.4052400788330757\n",
      "Loss at iteration 44500 0.3897624069054968\n",
      "Loss at iteration 45000 0.39113512529920746\n",
      "Loss at iteration 45500 0.4034731113006118\n",
      "Loss at iteration 46000 0.3929697430124625\n",
      "Loss at iteration 46500 0.3868864241223702\n",
      "Loss at iteration 47000 0.3890180993644135\n",
      "Loss at iteration 47500 0.40612472171488667\n",
      "Loss at iteration 48000 0.40733986871000255\n",
      "Loss at iteration 48500 0.3914175093869055\n",
      "Loss at iteration 49000 0.39076652454660643\n",
      "Loss at iteration 49500 0.38997682968437786\n",
      "time taken: 6.1660475730896\n"
     ]
    }
   ],
   "source": [
    "\n",
    "\n",
    "model = LogisticRegression(k, X_train.shape[1], \"minibatch\")\n",
    "\n",
    "model.fit(X_train, Y_train_encoded)\n",
    "#print(\"Shape of X_train:\", X_train.shape)  # ควรเป็น (2409, n_features)\n",
    "#print(\"Shape of W:\", model.W.shape)  # ควรเป็น (n_features, k)\n",
    "#print(\"Shape of X_1test:\", X_1test.shape)\n",
    "yhat = model.predict(X_1test)\n",
    "\n",
    "#model.plot()\n",
    "\n",
    "#print(\"=========Classification report=======\")\n",
    "#print(\"Report: \", classification_report(y_1test, yhat))"
   ]
  },
  {
   "cell_type": "code",
   "execution_count": 238,
   "metadata": {},
   "outputs": [
    {
     "name": "stdout",
     "output_type": "stream",
     "text": [
      "Precision for each class: [np.float64(0.059366754617414245), np.float64(0.13592233009708737), np.float64(0.4375), 0]\n",
      "recall :  [np.float64(0.9926470588235294), np.float64(0.012313104661389622), np.float64(0.01364522417153996), np.float64(0.0)]\n",
      "F1 :  [np.float64(0.11203319502074689), np.float64(0.02258064516129032), np.float64(0.026465028355387523), 0]\n",
      "accuracy :  0.0676629306766293\n",
      "macro_precision :  0.16\n",
      "macro_recall :  0.25\n",
      "macro_F1 :  0.04\n"
     ]
    }
   ],
   "source": [
    "accuracy = np.sum(yhat == y_1test)/ len(y_1test)\n",
    "num_classes = len(np.unique(y_1test))# จำนวนคลาสทั้งหมด\n",
    "precision_per_class = []\n",
    "recall_per_class = []\n",
    "f1_per_class = []\n",
    "for c in range(num_classes): #วนเช็คคลาสทั้งหมด\n",
    "    TP_c = np.sum((yhat == c) & (y_1test == c))#ถ้าหา C = 1 ใน yhat และเ y_test ก็เป็น 1 \n",
    "    FP_c = np.sum((yhat== c) & (y_1test != c)) # ถ้าหา C = 1 ใน yhat และ y_test ไม่เป็น 1 \n",
    "    FN_c = np.sum((yhat != c) & (y_1test == c))\n",
    "    \n",
    "    precision_c = TP_c / (TP_c + FP_c) if (TP_c + FP_c) > 0 else 0\n",
    "    recall = TP_c/(TP_c + FN_c) if (TP_c + FN_c) > 0 else 0\n",
    "    f1 = (2*precision_c*recall)/(precision_c + recall) if (precision_c + recall) > 0 else 0\n",
    "    precision_per_class.append(precision_c)\n",
    "    recall_per_class.append(recall)\n",
    "    f1_per_class.append(f1)\n",
    "    \n",
    "print(\"Precision for each class:\", precision_per_class)\n",
    "print(\"recall : \" , recall_per_class)   \n",
    "print(\"F1 : \", f1_per_class)\n",
    "print(\"accuracy : \", accuracy)\n",
    "\n",
    "macro_precision = sum(precision_per_class)/4\n",
    "macro_recall = sum(recall_per_class)/4\n",
    "macro_F1 = sum(f1_per_class)/4\n",
    "\n",
    "print(\"macro_precision : \", '{:.2f}'.format(macro_precision))\n",
    "print(\"macro_recall : \", '{:.2f}'.format(macro_recall))\n",
    "print(\"macro_F1 : \", '{:.2f}'.format(macro_F1))\n"
   ]
  },
  {
   "cell_type": "code",
   "execution_count": 239,
   "metadata": {},
   "outputs": [
    {
     "name": "stdout",
     "output_type": "stream",
     "text": [
      "weighted_precision: 0.14\n",
      "weighted_recall :  0.20\n",
      "Fweighted_F1 :  0.03\n"
     ]
    }
   ],
   "source": [
    "W = np.array([0.2, 0.3, 0.2, 0.3])\n",
    "weighted_precision = np.sum(W*precision_per_class)\n",
    "weighted_recall = np.sum(W*recall_per_class)\n",
    "weighted_F1 = np.sum(W*f1_per_class)\n",
    "\n",
    "print(\"weighted_precision:\", '{:.2f}'.format(weighted_precision))\n",
    "print(\"weighted_recall : \" , '{:.2f}'.format(weighted_recall))   \n",
    "print(\"Fweighted_F1 : \", '{:.2f}'.format(weighted_F1))"
   ]
  },
  {
   "cell_type": "markdown",
   "metadata": {},
   "source": []
  },
  {
   "cell_type": "markdown",
   "metadata": {},
   "source": [
    "scikit-learn"
   ]
  },
  {
   "cell_type": "code",
   "execution_count": 240,
   "metadata": {},
   "outputs": [
    {
     "name": "stdout",
     "output_type": "stream",
     "text": [
      "=========Classification report=======\n",
      "Report:                precision    recall  f1-score   support\n",
      "\n",
      "           0       0.06      0.99      0.11       136\n",
      "           1       0.14      0.01      0.02      1137\n",
      "           2       0.44      0.01      0.03      1026\n",
      "           3       0.00      0.00      0.00       110\n",
      "\n",
      "    accuracy                           0.07      2409\n",
      "   macro avg       0.16      0.25      0.04      2409\n",
      "weighted avg       0.25      0.07      0.03      2409\n",
      "\n"
     ]
    }
   ],
   "source": [
    "\n",
    "print(\"=========Classification report=======\")\n",
    "print(\"Report: \", classification_report(y_1test, yhat))"
   ]
  },
  {
   "cell_type": "code",
   "execution_count": 241,
   "metadata": {},
   "outputs": [],
   "source": [
    "class LassoPenalty:\n",
    "    \n",
    "    def __init__(self, l):\n",
    "        self.l = l # lambda value\n",
    "        \n",
    "    def __call__(self, theta): #__call__ allows us to call class as method\n",
    "        return self.l * np.sum(np.abs(theta))\n",
    "        \n",
    "    def derivation(self, theta):\n",
    "        return self.l * np.sign(theta)\n",
    "\n",
    "\n",
    "class RidgePenalty:\n",
    "    \n",
    "    def __init__(self, l):\n",
    "        self.l = l\n",
    "        \n",
    "    def __call__(self, theta): #__call__ allows us to call class as method\n",
    "        return self.l * np.sum(np.square(theta))\n",
    "        \n",
    "    def derivation(self, theta):\n",
    "        return self.l * 2 * theta\n",
    "\n",
    "class Ridge(LogisticRegression):\n",
    "    \n",
    "    def __init__(self, method, lr, l):\n",
    "        self.regularization = RidgePenalty(l)\n",
    "        #super().__init__(k, n, method, alpha = 0.001, max_iter=50000, regularization=None)"
   ]
  },
  {
   "cell_type": "code",
   "execution_count": 242,
   "metadata": {},
   "outputs": [
    {
     "name": "stdout",
     "output_type": "stream",
     "text": [
      "(5619, 5)\n"
     ]
    }
   ],
   "source": [
    "print(X_train.shape)"
   ]
  },
  {
   "cell_type": "code",
   "execution_count": 244,
   "metadata": {},
   "outputs": [
    {
     "name": "stdout",
     "output_type": "stream",
     "text": [
      "Loss at iteration 0 3.3321947903191655\n",
      "Loss at iteration 2000 nan\n",
      "Loss at iteration 4000 nan\n",
      "Loss at iteration 6000 nan\n",
      "Loss at iteration 8000 nan\n",
      "time taken: 4.437903881072998\n"
     ]
    },
    {
     "data": {
      "image/png": "[encoded data removed]",
      "text/plain": [
       "<Figure size 640x480 with 1 Axes>"
      ]
     },
     "metadata": {},
     "output_type": "display_data"
    }
   ],
   "source": [
    "\n",
    "model = LogisticRegression(k=4, n=X_train.shape[1] , method=\"batch\", alpha=0.01, max_iter=10000, lambda_=0.6, use_penalty=True)\n",
    "model.fit(X_train, Y_train_encoded)\n",
    "preds = model.predict(X_1test)\n",
    "model.plot()"
   ]
  },
  {
   "cell_type": "code",
   "execution_count": 245,
   "metadata": {},
   "outputs": [
    {
     "name": "stdout",
     "output_type": "stream",
     "text": [
      "Report:                precision    recall  f1-score   support\n",
      "\n",
      "           0       0.06      0.99      0.11       136\n",
      "           1       0.14      0.01      0.02      1137\n",
      "           2       0.44      0.01      0.03      1026\n",
      "           3       0.00      0.00      0.00       110\n",
      "\n",
      "    accuracy                           0.07      2409\n",
      "   macro avg       0.16      0.25      0.04      2409\n",
      "weighted avg       0.25      0.07      0.03      2409\n",
      "\n"
     ]
    }
   ],
   "source": [
    "print(\"Report: \", classification_report(y_1test, yhat))"
   ]
  },
  {
   "cell_type": "code",
   "execution_count": 263,
   "metadata": {},
   "outputs": [
    {
     "name": "stderr",
     "output_type": "stream",
     "text": [
      "2025/04/06 05:14:32 INFO mlflow.tracking.fluent: Experiment with name 'st124909-a3-Ridge' does not exist. Creating a new experiment.\n"
     ]
    },
    {
     "data": {
      "text/plain": [
       "<Experiment: artifact_location='mlflow-artifacts:/439733742680906594', creation_time=1743916882623, experiment_id='439733742680906594', last_update_time=1743916882623, lifecycle_stage='active', name='st124909-a3-Ridge', tags={}>"
      ]
     },
     "execution_count": 263,
     "metadata": {},
     "output_type": "execute_result"
    }
   ],
   "source": [
    "import mlflow\n",
    "import os\n",
    "\n",
    "# Setting MLflow authentication credentials as environment variables\n",
    "os.environ['MLFLOW_TRACKING_USERNAME'] = 'admin'\n",
    "os.environ['MLFLOW_TRACKING_PASSWORD'] = 'password'\n",
    "\n",
    "# Pointing MLflow to the remote tracking server\n",
    "mlflow.set_tracking_uri(\"https://mlflow.ml.brain.cs.ait.ac.th/\")\n",
    "\n",
    "# Set (and create if not exist) an experiment for tracking\n",
    "mlflow.set_experiment(\"st124909-a3-Ridge\")"
   ]
  },
  {
   "cell_type": "code",
   "execution_count": 264,
   "metadata": {},
   "outputs": [
    {
     "name": "stderr",
     "output_type": "stream",
     "text": [
      "c:\\ML\\MLenv\\lib\\site-packages\\mlflow\\pyfunc\\utils\\data_validation.py:166: UserWarning: \u001b[33mAdd type hints to the `predict` method to enable data validation and automatic signature inference during model logging. Check https://mlflow.org/docs/latest/model/python_model.html#type-hint-usage-in-pythonmodel for more details.\u001b[0m\n",
      "  color_warning(\n"
     ]
    }
   ],
   "source": [
    "import mlflow.pyfunc\n",
    "import cloudpickle\n",
    "\n",
    "class CustomLogisticWrapper(mlflow.pyfunc.PythonModel):\n",
    "    def __init__(self, trained_model):\n",
    "        self.trained_model = trained_model\n",
    "\n",
    "    def predict(self, context, model_input):\n",
    "        return self.trained_model.predict(model_input)\n"
   ]
  },
  {
   "cell_type": "code",
   "execution_count": 265,
   "metadata": {},
   "outputs": [
    {
     "name": "stdout",
     "output_type": "stream",
     "text": [
      "Loss at iteration 0 3.6680750114400897\n",
      "Loss at iteration 500 71.49940117529337\n",
      "Loss at iteration 1000 87.16688789266126\n",
      "Loss at iteration 1500 73.22151334499046\n",
      "Loss at iteration 2000 60.78046299027453\n",
      "Loss at iteration 2500 55.96540131104049\n",
      "Loss at iteration 3000 80.65636476221158\n",
      "Loss at iteration 3500 70.70581678659524\n",
      "Loss at iteration 4000 79.10468182180406\n",
      "Loss at iteration 4500 68.65947865642255\n",
      "Loss at iteration 5000 81.22370315678033\n",
      "Loss at iteration 5500 83.61398492532174\n",
      "Loss at iteration 6000 87.08927861583534\n",
      "Loss at iteration 6500 88.43697572236566\n",
      "Loss at iteration 7000 64.21772116914306\n",
      "Loss at iteration 7500 66.140936655001\n",
      "Loss at iteration 8000 59.700950324580944\n",
      "Loss at iteration 8500 71.74231495647976\n",
      "Loss at iteration 9000 70.94734304651084\n",
      "Loss at iteration 9500 82.6638847028258\n",
      "time taken: 1.2698018550872803\n",
      "🏃 View run ridge_logistic_run at: https://mlflow.ml.brain.cs.ait.ac.th/#/experiments/439733742680906594/runs/5060144bf3dc48728d6ff80b02784bef\n",
      "🧪 View experiment at: https://mlflow.ml.brain.cs.ait.ac.th/#/experiments/439733742680906594\n"
     ]
    }
   ],
   "source": [
    "import tempfile\n",
    "import os\n",
    "from sklearn.metrics import accuracy_score, f1_score\n",
    "# Train model\n",
    "model = LogisticRegression(k=4, n=X_train.shape[1], method=\"minibatch\", alpha=0.01, max_iter=10000, lambda_=0.6, use_penalty=True)\n",
    "model.fit(X_train, Y_train_encoded)\n",
    "preds = model.predict(X_1test)\n",
    "\n",
    "# คำนวณ metric\n",
    "accuracy = accuracy_score(y_1test, preds)\n",
    "f1 = f1_score(y_1test, preds, average=\"macro\")\n",
    "\n",
    "# Log everything to MLflow\n",
    "with mlflow.start_run(run_name=\"ridge_logistic_run\", nested=True):\n",
    "    mlflow.log_param(\"model_type\", \"Custom LogisticRegression\")\n",
    "    mlflow.log_param(\"lambda_\", model.lambda_)\n",
    "    mlflow.log_param(\"method\", model.method)\n",
    "    mlflow.log_param(\"alpha\", model.alpha)\n",
    "    mlflow.log_param(\"max_iter\", model.max_iter)\n",
    "\n",
    "    # Log overall metrics\n",
    "    mlflow.log_metric(\"accuracy\", accuracy)\n",
    "    mlflow.log_metric(\"macro_precision\", macro_precision)\n",
    "    mlflow.log_metric(\"macro_recall\", macro_recall)\n",
    "    mlflow.log_metric(\"macro_f1\", macro_F1)\n",
    "\n",
    "    # Log per-class metrics (optional)\n",
    "    for i in range(num_classes):\n",
    "        mlflow.log_metric(f\"precision_class_{i}\", precision_per_class[i])\n",
    "        mlflow.log_metric(f\"recall_class_{i}\", recall_per_class[i])\n",
    "        mlflow.log_metric(f\"f1_class_{i}\", f1_per_class[i])\n"
   ]
  },
  {
   "cell_type": "code",
   "execution_count": null,
   "metadata": {},
   "outputs": [
    {
     "data": {
      "text/plain": [
       "<Experiment: artifact_location='mlflow-artifacts:/189153763932796199', creation_time=1743911296422, experiment_id='189153763932796199', last_update_time=1743913485834, lifecycle_stage='active', name='st124909-a3-Ridge', tags={}>"
      ]
     },
     "execution_count": 258,
     "metadata": {},
     "output_type": "execute_result"
    }
   ],
   "source": [
    "import mlflow\n",
    "import os\n",
    "\n",
    "# Setting MLflow authentication credentials as environment variables\n",
    "os.environ['MLFLOW_TRACKING_USERNAME'] = 'admin'\n",
    "os.environ['MLFLOW_TRACKING_PASSWORD'] = 'password'\n",
    "\n",
    "# Pointing MLflow to the remote tracking server\n",
    "mlflow.set_tracking_uri(\"https://mlflow.ml.brain.cs.ait.ac.th/\")\n",
    "\n",
    "# Set (and create if not exist) an experiment for tracking\n",
    "mlflow.set_experiment(\"st124909-a3-Ridge\")"
   ]
  },
  {
   "cell_type": "code",
   "execution_count": 266,
   "metadata": {},
   "outputs": [
    {
     "name": "stdout",
     "output_type": "stream",
     "text": [
      "Loss at iteration 0 3.327789828143062\n",
      "Loss at iteration 500 56.569657333603786\n",
      "Loss at iteration 1000 63.99647576511465\n",
      "Loss at iteration 1500 84.96045136138257\n",
      "Loss at iteration 2000 76.14288058359247\n",
      "Loss at iteration 2500 70.2231204520798\n",
      "Loss at iteration 3000 74.03277603056486\n",
      "Loss at iteration 3500 54.36441686033828\n",
      "Loss at iteration 4000 85.65011100741613\n",
      "Loss at iteration 4500 59.50750889270753\n",
      "Loss at iteration 5000 87.83316786463705\n",
      "Loss at iteration 5500 56.16163474808319\n",
      "Loss at iteration 6000 72.32921952335569\n",
      "Loss at iteration 6500 69.15336984234123\n",
      "Loss at iteration 7000 79.00867235664943\n",
      "Loss at iteration 7500 79.70830059540373\n",
      "Loss at iteration 8000 99.44081220359368\n",
      "Loss at iteration 8500 58.03282745139679\n",
      "Loss at iteration 9000 62.478330919607856\n",
      "Loss at iteration 9500 84.7440597300405\n",
      "time taken: 1.2880656719207764\n",
      "🏃 View run ridge_logistic_run at: https://mlflow.ml.brain.cs.ait.ac.th/#/experiments/439733742680906594/runs/e9ac7d417b9a4883bf8c943241677322\n",
      "🧪 View experiment at: https://mlflow.ml.brain.cs.ait.ac.th/#/experiments/439733742680906594\n"
     ]
    }
   ],
   "source": [
    "import tempfile\n",
    "import os\n",
    "from sklearn.metrics import accuracy_score, f1_score\n",
    "# Train model\n",
    "model = LogisticRegression(k=4, n=X_train.shape[1], method=\"minibatch\", alpha=0.01, max_iter=10000, lambda_=0.6, use_penalty=True)\n",
    "model.fit(X_train, Y_train_encoded)\n",
    "preds = model.predict(X_1test)\n",
    "\n",
    "# คำนวณ metric\n",
    "accuracy = accuracy_score(y_1test, preds)\n",
    "f1 = f1_score(y_1test, preds, average=\"macro\")\n",
    "\n",
    "# Log everything to MLflow\n",
    "with mlflow.start_run(run_name=\"ridge_logistic_run\", nested=True):\n",
    "    mlflow.log_param(\"model_type\", \"Custom LogisticRegression\")\n",
    "    mlflow.log_param(\"lambda_\", model.lambda_)\n",
    "    mlflow.log_param(\"method\", model.method)\n",
    "    mlflow.log_param(\"alpha\", model.alpha)\n",
    "    mlflow.log_param(\"max_iter\", model.max_iter)\n",
    "\n",
    "    # Log overall metrics\n",
    "    mlflow.log_metric(\"accuracy\", accuracy)\n",
    "    mlflow.log_metric(\"macro_precision\", macro_precision)\n",
    "    mlflow.log_metric(\"macro_recall\", macro_recall)\n",
    "    mlflow.log_metric(\"macro_f1\", macro_F1)\n",
    "\n",
    "    # Log per-class metrics (optional)\n",
    "    for i in range(num_classes):\n",
    "        mlflow.log_metric(f\"precision_class_{i}\", precision_per_class[i])\n",
    "        mlflow.log_metric(f\"recall_class_{i}\", recall_per_class[i])\n",
    "        mlflow.log_metric(f\"f1_class_{i}\", f1_per_class[i])\n"
   ]
  },
  {
   "cell_type": "code",
   "execution_count": 268,
   "metadata": {},
   "outputs": [
    {
     "name": "stderr",
     "output_type": "stream",
     "text": [
      "c:\\ML\\MLenv\\lib\\site-packages\\mlflow\\pyfunc\\utils\\data_validation.py:166: UserWarning: \u001b[33mAdd type hints to the `predict` method to enable data validation and automatic signature inference during model logging. Check https://mlflow.org/docs/latest/model/python_model.html#type-hint-usage-in-pythonmodel for more details.\u001b[0m\n",
      "  color_warning(\n"
     ]
    }
   ],
   "source": [
    "import mlflow.pyfunc\n",
    "import cloudpickle\n",
    "\n",
    "class CustomLogisticWrapper(mlflow.pyfunc.PythonModel):\n",
    "    def __init__(self, trained_model):\n",
    "        self.trained_model = trained_model\n",
    "\n",
    "    def predict(self, context, model_input):\n",
    "\n",
    "        return self.trained_model.predict(model_input)\n"
   ]
  },
  {
   "cell_type": "code",
   "execution_count": 269,
   "metadata": {},
   "outputs": [
    {
     "name": "stderr",
     "output_type": "stream",
     "text": [
      "Downloading artifacts: 100%|██████████| 1/1 [00:00<00:00, 53.90it/s]\n",
      "2025/04/06 05:15:31 WARNING mlflow.models.model: Model logged without a signature and input example. Please set `input_example` parameter when logging the model to auto infer the model signature.\n"
     ]
    },
    {
     "name": "stdout",
     "output_type": "stream",
     "text": [
      "🏃 View run ridge_logistic_run at: https://mlflow.ml.brain.cs.ait.ac.th/#/experiments/439733742680906594/runs/b0d1ce7e49064921b03ded60bcc986e3\n",
      "🧪 View experiment at: https://mlflow.ml.brain.cs.ait.ac.th/#/experiments/439733742680906594\n"
     ]
    }
   ],
   "source": [
    "import tempfile\n",
    "import os\n",
    "import mlflow.pyfunc\n",
    "import cloudpickle\n",
    "\n",
    "# เริ่ม MLflow run\n",
    "with mlflow.start_run(run_name=\"ridge_logistic_run\", nested=True):\n",
    "    # Log พารามิเตอร์และ metrics\n",
    "    mlflow.log_param(\"model_type\", \"Custom LogisticRegression\")\n",
    "    mlflow.log_param(\"lambda_\", model.lambda_)\n",
    "    mlflow.log_param(\"method\", model.method)\n",
    "    mlflow.log_param(\"alpha\", model.alpha)\n",
    "    mlflow.log_param(\"max_iter\", model.max_iter)\n",
    "\n",
    "    # Log metrics\n",
    "    mlflow.log_metric(\"accuracy\", accuracy)\n",
    "    mlflow.log_metric(\"macro_f1\", f1)\n",
    "\n",
    "    # Log custom model (wrapper + original model)\n",
    "    with tempfile.TemporaryDirectory() as tmp_dir:\n",
    "        model_path = os.path.join(tmp_dir, \"model.pkl\")\n",
    "        \n",
    "        # Save the trained model using cloudpickle\n",
    "        with open(model_path, \"wb\") as f:\n",
    "            cloudpickle.dump(model, f)\n",
    "\n",
    "        # Log the model using the wrapper\n",
    "        mlflow.pyfunc.log_model(\n",
    "            artifact_path=\"model\",\n",
    "            python_model=CustomLogisticWrapper(model),\n",
    "            artifacts={\"model_file\": model_path}\n",
    "        )\n"
   ]
  },
  {
   "cell_type": "code",
   "execution_count": 270,
   "metadata": {},
   "outputs": [
    {
     "name": "stderr",
     "output_type": "stream",
     "text": [
      "2025/04/06 05:15:40 WARNING mlflow.models.model: Model logged without a signature and input example. Please set `input_example` parameter when logging the model to auto infer the model signature.\n"
     ]
    },
    {
     "name": "stdout",
     "output_type": "stream",
     "text": [
      "🏃 View run ridge_logistic_run at: https://mlflow.ml.brain.cs.ait.ac.th/#/experiments/439733742680906594/runs/155b2de0cad54cdd914b4ab0c09b20d0\n",
      "🧪 View experiment at: https://mlflow.ml.brain.cs.ait.ac.th/#/experiments/439733742680906594\n"
     ]
    }
   ],
   "source": [
    "import mlflow\n",
    "\n",
    "# เริ่มต้น MLflow run\n",
    "with mlflow.start_run(run_name=\"ridge_logistic_run\", nested=True):\n",
    "    # Log พารามิเตอร์ต่างๆ\n",
    "    mlflow.log_param(\"model_type\", \"Custom LogisticRegression\")\n",
    "    mlflow.log_param(\"lambda_\", model.lambda_)  # ถ้ามี\n",
    "    mlflow.log_param(\"alpha\", model.alpha)  # ถ้ามี\n",
    "    mlflow.log_param(\"max_iter\", model.max_iter)  # ถ้ามี\n",
    "    \n",
    "    # Log metrics เช่น accuracy\n",
    "    mlflow.log_metric(\"accuracy\", accuracy)\n",
    "    mlflow.log_metric(\"macro_f1\", f1)\n",
    "\n",
    "    # Log โมเดลด้วย Custom Wrapper\n",
    "    mlflow.pyfunc.log_model(\n",
    "        artifact_path=\"model\",  # ระบุที่เก็บโมเดลใน MLflow\n",
    "        python_model=CustomLogisticWrapper(model)  # ส่งโมเดลที่คุณสร้างเอง\n",
    "    )\n",
    "\n"
   ]
  }
 ],
 "metadata": {
  "kernelspec": {
   "display_name": "MLenv",
   "language": "python",
   "name": "python3"
  },
  "language_info": {
   "codemirror_mode": {
    "name": "ipython",
    "version": 3
   },
   "file_extension": ".py",
   "mimetype": "text/x-python",
   "name": "python",
   "nbconvert_exporter": "python",
   "pygments_lexer": "ipython3",
   "version": "3.9.11"
  }
 },
 "nbformat": 4,
 "nbformat_minor": 2
}
